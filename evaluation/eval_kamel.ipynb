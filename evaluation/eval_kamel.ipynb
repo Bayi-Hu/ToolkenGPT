{
 "cells": [
  {
   "cell_type": "code",
   "execution_count": 1,
   "metadata": {},
   "outputs": [],
   "source": [
    "import json\n",
    "import os\n",
    "os.chdir(\"..\")"
   ]
  },
  {
   "cell_type": "code",
   "execution_count": 2,
   "metadata": {},
   "outputs": [],
   "source": [
    "from collections import Counter"
   ]
  },
  {
   "cell_type": "code",
   "execution_count": 3,
   "metadata": {},
   "outputs": [],
   "source": [
    "# import chain\n",
    "from itertools import chain\n",
    "from collections import Counter\n",
    "def check_acc(outputs, targets):\n",
    "    mul_ans = 0\n",
    "    c = Counter()\n",
    "    for gen, tar in zip(outputs, targets):\n",
    "        #ans = tar[\"answer\"][0]\n",
    "        if len(tar[\"answer\"]) > 1:\n",
    "            mul_ans += 1\n",
    "        objs = [ans[\"alternative\"] + [ans[\"chosen\"]] for ans in tar[\"answer\"]]\n",
    "        objs = list(chain.from_iterable(objs))\n",
    "        rel = tar[\"api\"]\n",
    "        generation = gen[\"generation\"]\n",
    "        # print(objs)\n",
    "        if rel in generation:\n",
    "            c.update([\"Correct-rel\"])\n",
    "        elif \"<P\" in generation:\n",
    "            c.update([\"False-rel\"])\n",
    "        elif any([obj in generation for obj in objs]):\n",
    "            c.update([\"Correct-obj\"])\n",
    "        else:\n",
    "            c.update([\"False-obj\"])\n",
    "    # print(f\"Multiple answers: {mul_ans}\")\n",
    "    # calculate the accuracy\n",
    "    acc = (c[\"Correct-rel\"] + c[\"Correct-obj\"]) / (c[\"Correct-rel\"] + c[\"Correct-obj\"] + c[\"False-rel\"] + c[\"False-obj\"])\n",
    "    return c, acc\n",
    "    "
   ]
  },
  {
   "cell_type": "code",
   "execution_count": null,
   "metadata": {},
   "outputs": [],
   "source": [
    "output_file = \"outputs/kamel_30/inference-13B-epoch_0-kamel_embedding_inference-kamel_30-10.jsonl\"\n",
    "target_file = \"data/kamel/test_first_30.json\"\n",
    "outputs = []\n",
    "#with open(\"outputs/inference-13B-ood_para_kamel_embedding.pt-func_embedding-kamel-0.jsonl\") as f:\n",
    "#    for line in f:\n",
    "#        outputs.append(json.loads(line))\n",
    "with open(output_file) as f:\n",
    "    for line in f:\n",
    "        outputs.append(json.loads(line))\n",
    "target = json.load(open(target_file))\n",
    "print(check_acc(outputs, target))"
   ]
  },
  {
   "cell_type": "code",
   "execution_count": null,
   "metadata": {},
   "outputs": [],
   "source": []
  }
 ],
 "metadata": {
  "kernelspec": {
   "display_name": "llama",
   "language": "python",
   "name": "python3"
  },
  "language_info": {
   "codemirror_mode": {
    "name": "ipython",
    "version": 3
   },
   "file_extension": ".py",
   "mimetype": "text/x-python",
   "name": "python",
   "nbconvert_exporter": "python",
   "pygments_lexer": "ipython3",
   "version": "3.11.0"
  },
  "orig_nbformat": 4
 },
 "nbformat": 4,
 "nbformat_minor": 2
}
